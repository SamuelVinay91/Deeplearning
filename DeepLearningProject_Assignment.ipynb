{
  "nbformat": 4,
  "nbformat_minor": 0,
  "metadata": {
    "kernelspec": {
      "display_name": "Python 3",
      "language": "python",
      "name": "python3"
    },
    "language_info": {
      "codemirror_mode": {
        "name": "ipython",
        "version": 3
      },
      "file_extension": ".py",
      "mimetype": "text/x-python",
      "name": "python",
      "nbconvert_exporter": "python",
      "pygments_lexer": "ipython3",
      "version": "3.5.2"
    },
    "colab": {
      "name": "DeepLearningProject - Assignment.ipynb",
      "provenance": [],
      "include_colab_link": true
    }
  },
  "cells": [
    {
      "cell_type": "markdown",
      "metadata": {
        "id": "view-in-github",
        "colab_type": "text"
      },
      "source": [
        "<a href=\"https://colab.research.google.com/github/SamuelVinay91/Deeplearning/blob/master/DeepLearningProject_Assignment.ipynb\" target=\"_parent\"><img src=\"https://colab.research.google.com/assets/colab-badge.svg\" alt=\"Open In Colab\"/></a>"
      ]
    },
    {
      "cell_type": "markdown",
      "metadata": {
        "id": "o1Y_O4pmo1-e",
        "colab_type": "text"
      },
      "source": [
        "# Deep Learning Project: Pet Classifier using CNN\n",
        "\n",
        "Prepration\n",
        "- Extract the ipynb file and the data in the same folder\n",
        "\n",
        "Data Set\n",
        "- A production grade program as 10,000 training images\n",
        "- This is a small program with 20 images of cats and 20 images of dogs. \n",
        "- The evaluation set has 10 images of cats and 10 images of dogs\n",
        "\n",
        "Runs\n",
        "- The student is expected to run the 100-300 training step\n",
        "- A production grade code would have about 20k-50k training steps"
      ]
    },
    {
      "cell_type": "markdown",
      "metadata": {
        "id": "A4P0c0Mvo1-h",
        "colab_type": "text"
      },
      "source": [
        "### Import modules"
      ]
    },
    {
      "cell_type": "code",
      "metadata": {
        "id": "NwnUmt6Eo1-h",
        "colab_type": "code",
        "colab": {
          "base_uri": "https://localhost:8080/",
          "height": 63
        },
        "outputId": "47bd90b6-5aba-4649-8762-ad88a00e0a16"
      },
      "source": [
        "from __future__ import absolute_import\n",
        "from __future__ import division\n",
        "from __future__ import print_function\n",
        "import os\n",
        "import cv2\n",
        "import glob\n",
        "import matplotlib.pyplot as plt\n",
        "import numpy as np\n",
        "import tensorflow as tf\n",
        "import random\n",
        "import sys\n",
        "\n",
        "# To support both python 2 and python 3\n",
        "from __future__ import division, print_function, unicode_literals\n",
        "\n",
        "# to make this notebook's output stable across runs\n",
        "def reset_graph(seed=42):\n",
        "    tf.reset_default_graph()\n",
        "    tf.set_random_seed(seed)\n",
        "    np.random.seed(seed)"
      ],
      "execution_count": 1,
      "outputs": [
        {
          "output_type": "display_data",
          "data": {
            "text/html": [
              "<p style=\"color: red;\">\n",
              "The default version of TensorFlow in Colab will soon switch to TensorFlow 2.x.<br>\n",
              "We recommend you <a href=\"https://www.tensorflow.org/guide/migrate\" target=\"_blank\">upgrade</a> now \n",
              "or ensure your notebook will continue to use TensorFlow 1.x via the <code>%tensorflow_version 1.x</code> magic:\n",
              "<a href=\"https://colab.research.google.com/notebooks/tensorflow_version.ipynb\" target=\"_blank\">more info</a>.</p>\n"
            ],
            "text/plain": [
              "<IPython.core.display.HTML object>"
            ]
          },
          "metadata": {
            "tags": []
          }
        }
      ]
    },
    {
      "cell_type": "markdown",
      "metadata": {
        "id": "F_FV1pYQo1-l",
        "colab_type": "text"
      },
      "source": [
        "### Set hyper parameters\n",
        "- Run the program with three num_steps : 100,200,300"
      ]
    },
    {
      "cell_type": "code",
      "metadata": {
        "id": "FFX4zO9qo1-l",
        "colab_type": "code",
        "colab": {}
      },
      "source": [
        "reset_graph()\n",
        "\n",
        "img_size = 32\n",
        "num_channels = 3\n",
        "img_size_flat = img_size * img_size * num_channels\n",
        "img_shape = (img_size, img_size)\n",
        "trainpath='/content/drive/My Drive/DL_CNN_Project_DataSet/data/train'\n",
        "testpath='/content/drive/My Drive/DL_CNN_Project_DataSet/data/test'\n",
        "labels = {'cats': 0, 'dogs': 1}\n",
        "fc_size=32 #size of the output of final FC layer\n",
        "num_steps=300 #Try 100, 200, 300. number of steps that training data should be looped. Usually 20K\n",
        "tf.logging.set_verbosity(tf.logging.INFO)"
      ],
      "execution_count": 0,
      "outputs": []
    },
    {
      "cell_type": "markdown",
      "metadata": {
        "id": "glPLRBg1o1-o",
        "colab_type": "text"
      },
      "source": [
        "### Read the image dataset"
      ]
    },
    {
      "cell_type": "code",
      "metadata": {
        "id": "aU8m1060o1-p",
        "colab_type": "code",
        "colab": {
          "base_uri": "https://localhost:8080/",
          "height": 214
        },
        "outputId": "2e08bee7-c88b-4dbd-ae10-a89eeaa54ae1"
      },
      "source": [
        "def read_images_classes(basepath,imgSize=img_size):\n",
        "    image_stack = []\n",
        "    label_stack = []\n",
        "\n",
        "    for counter, l in enumerate(labels):\n",
        "        path = os.path.join(basepath, l,'*g')\n",
        "        for img in glob.glob(path):\n",
        "            one_hot_vector =np.zeros(len(labels),dtype=np.int16)\n",
        "            one_hot_vector[counter]=1\n",
        "            image = cv2.imread(img)\n",
        "            im_resize = cv2.resize(image,img_shape, interpolation=cv2.INTER_CUBIC)\n",
        "            image_stack.append(im_resize)\n",
        "            label_stack.append(labels[l])            \n",
        "    return np.array(image_stack), np.array(label_stack)\n",
        "\n",
        "X_train, y_train=read_images_classes(trainpath)\n",
        "X_test, y_test=read_images_classes(testpath)\n",
        "\n",
        "#test a sample image\n",
        "print('length of train image set',len(X_train))\n",
        "print('X_data shape:', X_train.shape)\n",
        "print('y_data shape:', y_train.shape)\n",
        "\n",
        "fig1 = plt.figure() \n",
        "ax1 = fig1.add_subplot(2,2,1) \n",
        "img = cv2.resize(X_train[0],(64,64), interpolation=cv2.INTER_CUBIC)\n",
        "ax1.imshow(cv2.cvtColor(img, cv2.COLOR_BGR2RGB))\n",
        "plt.title(y_train[0])\n",
        "plt.show()"
      ],
      "execution_count": 41,
      "outputs": [
        {
          "output_type": "stream",
          "text": [
            "length of train image set 40\n",
            "X_data shape: (40, 32, 32, 3)\n",
            "y_data shape: (40,)\n"
          ],
          "name": "stdout"
        },
        {
          "output_type": "display_data",
          "data": {
            "image/png": "[encoded data removed]",
            "text/plain": [
              "<Figure size 432x288 with 1 Axes>"
            ]
          },
          "metadata": {
            "tags": []
          }
        }
      ]
    },
    {
      "cell_type": "markdown",
      "metadata": {
        "id": "QZSXSc3Vo1-t",
        "colab_type": "text"
      },
      "source": [
        "### Assignment: Define the tensorflow model\n",
        "\n",
        "The model should have the following layers\n",
        "- input later\n",
        "- conv layer 1 with 32 filters of kernel  size[5,5],\n",
        "- pooling layer 1 with pool size[2,2] and stride 2\n",
        "- conv layer 2 with 64 filters of kernel  size[5,5],\n",
        "- pooling layer 2 with pool size[2,2] and stride 2\n",
        "- dense layer whose output size is fixed in the hyper parameter: fc_size=32\n",
        "- drop out layer with droput probability 0.4\n",
        "- predict the class by doing a softmax on the output of the dropout layers\n",
        "\n",
        "Training\n",
        "- For training define the loss function and minimize it\n",
        "- For evaluation calculate the accuracy\n",
        "\n",
        "Reading Material\n",
        "- For ideas look at tensorflow layers tutorial"
      ]
    },
    {
      "cell_type": "markdown",
      "metadata": {
        "id": "6aZBDDF2o1-t",
        "colab_type": "text"
      },
      "source": [
        "### The cnn_model_fn has to be defined here by the student"
      ]
    },
    {
      "cell_type": "code",
      "metadata": {
        "id": "pGE1vxnNo1-u",
        "colab_type": "code",
        "colab": {}
      },
      "source": [
        "def cnn_model_fn(features, labels, mode):\n",
        "    # Input Layer\n",
        "    input_layer = tf.reshape(features[\"x\"], [-1, img_size, img_size, num_channels])\n",
        "\n",
        "    # Convolutional Layer #1\n",
        "    conv1 = tf.layers.conv2d(\n",
        "        inputs=input_layer,\n",
        "        filters=32,\n",
        "        kernel_size=[5, 5],\n",
        "        padding=\"same\",\n",
        "        activation=tf.nn.relu)\n",
        "\n",
        "    # Pooling Layer #1\n",
        "    pool1 = tf.layers.max_pooling2d(inputs=conv1, pool_size=[2, 2], strides=2)\n",
        "\n",
        "    # Convolutional Layer #2 and Pooling Layer #2\n",
        "    conv2 = tf.layers.conv2d(\n",
        "        inputs=pool1,\n",
        "        filters=64,\n",
        "        kernel_size=[5, 5],\n",
        "        padding=\"same\",\n",
        "        activation=tf.nn.relu)\n",
        "    pool2 = tf.layers.max_pooling2d(inputs=conv2, pool_size=[2, 2], strides=2)\n",
        "\n",
        "    # Flattening pooling layer before connecting fully connected layer\n",
        "    layer_shape = pool2.get_shape()\n",
        "    num_features = layer_shape[1:4].num_elements();\n",
        "    print( \" Total features in pool2 layer should be 8*8*64 and it is found to be :\" ,num_features)\n",
        "    \n",
        "    # Dense Layer\n",
        "    pool2_flat = tf.reshape(pool2, [-1, num_features])\n",
        "    dense = tf.layers.dense(inputs=pool2_flat, units=fc_size, activation=tf.nn.relu)\n",
        "    dropout = tf.layers.dropout(\n",
        "        inputs=dense, rate=0.4, training=mode == tf.estimator.ModeKeys.TRAIN)\n",
        "\n",
        "    # Logits Layer\n",
        "    logits = tf.layers.dense(inputs=dropout, units=2)\n",
        "\n",
        "    predictions = {\n",
        "        # Generate predictions (for PREDICT and EVAL mode)\n",
        "        \"classes\": tf.argmax(input=logits, axis=1),\n",
        "        # Add `softmax_tensor` to the graph. It is used for PREDICT and by the\n",
        "        # `logging_hook`.\n",
        "        \"probabilities\": tf.nn.softmax(logits, name=\"softmax_tensor\")\n",
        "    }\n",
        "\n",
        "    if mode == tf.estimator.ModeKeys.PREDICT:\n",
        "        return tf.estimator.EstimatorSpec(mode=mode, predictions=predictions)\n",
        "\n",
        "    onehot_labels = tf.one_hot(indices=tf.cast(labels, tf.int32), depth=2)\n",
        "    loss = tf.losses.softmax_cross_entropy(onehot_labels=onehot_labels, logits=logits)\n",
        "\n",
        "    # Configure the Training Op (for TRAIN mode)\n",
        "    if mode == tf.estimator.ModeKeys.TRAIN:\n",
        "        optimizer = tf.train.GradientDescentOptimizer(learning_rate=0.01)\n",
        "        train_op = optimizer.minimize(\n",
        "            loss=loss,\n",
        "            global_step=tf.train.get_global_step())\n",
        "        return tf.estimator.EstimatorSpec(mode=mode, loss=loss, train_op=train_op)\n",
        "\n",
        "    # Add evaluation metrics (for EVAL mode)\n",
        "    eval_metric_ops = {\n",
        "        \"accuracy\": tf.metrics.accuracy(\n",
        "            labels=labels, predictions=predictions[\"classes\"])}\n",
        "    return tf.estimator.EstimatorSpec(\n",
        "        mode=mode, loss=loss, eval_metric_ops=eval_metric_ops)"
      ],
      "execution_count": 0,
      "outputs": []
    },
    {
      "cell_type": "markdown",
      "metadata": {
        "id": "DmrvznRFo1-x",
        "colab_type": "text"
      },
      "source": [
        "### Run the tensorflow model\n",
        "\n",
        "This section will use the model defined by the student and run the training and evaluation step"
      ]
    },
    {
      "cell_type": "code",
      "metadata": {
        "id": "iQD-qZWBo1-y",
        "colab_type": "code",
        "colab": {
          "base_uri": "https://localhost:8080/",
          "height": 1000
        },
        "outputId": "e688db88-f139-41e7-a011-04c5675f7395"
      },
      "source": [
        "#X_train = np.array((X_train/255.0),dtype=np.float16)\n",
        "#X_test = np.array((X_test/255.0), dtype=np.float16)\n",
        "X_train = np.array((X_train/255.0),dtype=np.float32)\n",
        "X_test = np.array((X_test/255.0), dtype=np.float32)\n",
        "\n",
        "pets_classifier = tf.estimator.Estimator(model_fn=cnn_model_fn, model_dir=\"/content/drive/My Drive/DL_CNN_Project_DataSet/pets_convnet_model\")\n",
        "#pets_classifier = tf.estimator.Estimator(model_fn=cnn_model_fn)\n",
        "tensors_to_log = {\"probabilities\": \"softmax_tensor\"}\n",
        "logging_hook = tf.train.LoggingTensorHook(tensors=tensors_to_log, every_n_iter=50)\n",
        "train_input_fn = tf.estimator.inputs.numpy_input_fn(x={\"x\": X_train}, y=y_train, batch_size=10,\n",
        "                                                      num_epochs=None, shuffle=True)\n",
        "pets_classifier.train(input_fn=train_input_fn, steps=num_steps, hooks=[logging_hook])\n",
        "eval_input_fn = tf.estimator.inputs.numpy_input_fn(x={\"x\": X_test}, y=y_test, num_epochs=1,shuffle=False)\n",
        "eval_results = pets_classifier.evaluate(input_fn=eval_input_fn)\n",
        "print(eval_results)"
      ],
      "execution_count": 43,
      "outputs": [
        {
          "output_type": "stream",
          "text": [
            "INFO:tensorflow:Using default config.\n",
            "INFO:tensorflow:Using config: {'_model_dir': '/content/drive/My Drive/DL_CNN_Project_DataSet/pets_convnet_model', '_tf_random_seed': None, '_save_summary_steps': 100, '_save_checkpoints_steps': None, '_save_checkpoints_secs': 600, '_session_config': allow_soft_placement: true\n",
            "graph_options {\n",
            "  rewrite_options {\n",
            "    meta_optimizer_iterations: ONE\n",
            "  }\n",
            "}\n",
            ", '_keep_checkpoint_max': 5, '_keep_checkpoint_every_n_hours': 10000, '_log_step_count_steps': 100, '_train_distribute': None, '_device_fn': None, '_protocol': None, '_eval_distribute': None, '_experimental_distribute': None, '_experimental_max_worker_delay_secs': None, '_session_creation_timeout_secs': 7200, '_service': None, '_cluster_spec': <tensorflow.python.training.server_lib.ClusterSpec object at 0x7f787bf2e6d8>, '_task_type': 'worker', '_task_id': 0, '_global_id_in_cluster': 0, '_master': '', '_evaluation_master': '', '_is_chief': True, '_num_ps_replicas': 0, '_num_worker_replicas': 1}\n",
            "INFO:tensorflow:Calling model_fn.\n",
            " Total features in pool2 layer should be 8*8*64 and it is found to be : 4096\n",
            "INFO:tensorflow:Done calling model_fn.\n",
            "INFO:tensorflow:Create CheckpointSaverHook.\n",
            "INFO:tensorflow:Graph was finalized.\n",
            "INFO:tensorflow:Restoring parameters from /content/drive/My Drive/DL_CNN_Project_DataSet/pets_convnet_model/model.ckpt-700\n",
            "INFO:tensorflow:Running local_init_op.\n",
            "INFO:tensorflow:Done running local_init_op.\n",
            "INFO:tensorflow:Saving checkpoints for 700 into /content/drive/My Drive/DL_CNN_Project_DataSet/pets_convnet_model/model.ckpt.\n",
            "INFO:tensorflow:probabilities = [[0.44957212 0.5504279 ]\n",
            " [0.47073665 0.5292633 ]\n",
            " [0.4457598  0.5542402 ]\n",
            " [0.42416772 0.57583225]\n",
            " [0.4894363  0.51056373]\n",
            " [0.3738795  0.62612045]\n",
            " [0.55062026 0.4493798 ]\n",
            " [0.50393486 0.49606508]\n",
            " [0.42884445 0.5711556 ]\n",
            " [0.37976226 0.62023777]]\n",
            "INFO:tensorflow:loss = 0.6401407, step = 701\n",
            "INFO:tensorflow:probabilities = [[0.5060454  0.49395457]\n",
            " [0.6138407  0.38615933]\n",
            " [0.5320431  0.46795687]\n",
            " [0.3470152  0.65298474]\n",
            " [0.40656653 0.59343344]\n",
            " [0.4170361  0.5829639 ]\n",
            " [0.4347861  0.5652139 ]\n",
            " [0.5087099  0.4912901 ]\n",
            " [0.5038775  0.49612254]\n",
            " [0.5301926  0.46980733]] (1.965 sec)\n",
            "INFO:tensorflow:global_step/sec: 26.3285\n",
            "INFO:tensorflow:probabilities = [[0.54418606 0.455814  ]\n",
            " [0.5087096  0.49129036]\n",
            " [0.51633507 0.48366496]\n",
            " [0.39281067 0.6071893 ]\n",
            " [0.43755725 0.5624428 ]\n",
            " [0.6114873  0.3885127 ]\n",
            " [0.603584   0.39641595]\n",
            " [0.5849519  0.41504812]\n",
            " [0.5862987  0.41370127]\n",
            " [0.4374478  0.5625522 ]] (1.836 sec)\n",
            "INFO:tensorflow:loss = 0.6190814, step = 801 (3.798 sec)\n",
            "INFO:tensorflow:probabilities = [[0.56101406 0.4389859 ]\n",
            " [0.5060348  0.4939652 ]\n",
            " [0.50982726 0.49017277]\n",
            " [0.6689816  0.33101842]\n",
            " [0.80079687 0.19920321]\n",
            " [0.5883009  0.41169915]\n",
            " [0.34455696 0.6554431 ]\n",
            " [0.48316124 0.5168388 ]\n",
            " [0.42114785 0.5788522 ]\n",
            " [0.63699883 0.36300114]] (1.824 sec)\n",
            "INFO:tensorflow:global_step/sec: 27.528\n",
            "INFO:tensorflow:probabilities = [[0.28676596 0.71323407]\n",
            " [0.13145067 0.8685494 ]\n",
            " [0.3088509  0.6911491 ]\n",
            " [0.42269614 0.5773039 ]\n",
            " [0.3225281  0.6774719 ]\n",
            " [0.5720208  0.4279792 ]\n",
            " [0.47111654 0.52888346]\n",
            " [0.15904433 0.8409556 ]\n",
            " [0.16058874 0.83941126]\n",
            " [0.32106626 0.67893374]] (1.814 sec)\n",
            "INFO:tensorflow:loss = 0.46392792, step = 901 (3.643 sec)\n",
            "INFO:tensorflow:probabilities = [[0.88966954 0.1103304 ]\n",
            " [0.8810745  0.11892551]\n",
            " [0.8112549  0.18874504]\n",
            " [0.89355415 0.10644582]\n",
            " [0.67313796 0.32686204]\n",
            " [0.82847023 0.1715298 ]\n",
            " [0.8414706  0.15852934]\n",
            " [0.6830778  0.31692225]\n",
            " [0.64841455 0.35158542]\n",
            " [0.2908654  0.7091346 ]] (1.831 sec)\n",
            "INFO:tensorflow:Saving checkpoints for 1000 into /content/drive/My Drive/DL_CNN_Project_DataSet/pets_convnet_model/model.ckpt.\n",
            "INFO:tensorflow:Loss for final step: 0.23441446.\n",
            "INFO:tensorflow:Calling model_fn.\n",
            " Total features in pool2 layer should be 8*8*64 and it is found to be : 4096\n",
            "INFO:tensorflow:Done calling model_fn.\n",
            "INFO:tensorflow:Starting evaluation at 2019-11-23T17:06:24Z\n",
            "INFO:tensorflow:Graph was finalized.\n",
            "INFO:tensorflow:Restoring parameters from /content/drive/My Drive/DL_CNN_Project_DataSet/pets_convnet_model/model.ckpt-1000\n",
            "INFO:tensorflow:Running local_init_op.\n",
            "INFO:tensorflow:Done running local_init_op.\n",
            "INFO:tensorflow:Finished evaluation at 2019-11-23-17:06:25\n",
            "INFO:tensorflow:Saving dict for global step 1000: accuracy = 0.45, global_step = 1000, loss = 0.69134676\n",
            "INFO:tensorflow:Saving 'checkpoint_path' summary for global step 1000: /content/drive/My Drive/DL_CNN_Project_DataSet/pets_convnet_model/model.ckpt-1000\n",
            "{'accuracy': 0.45, 'loss': 0.69134676, 'global_step': 1000}\n"
          ],
          "name": "stdout"
        }
      ]
    },
    {
      "cell_type": "code",
      "metadata": {
        "id": "6Wfiyb37o1-0",
        "colab_type": "code",
        "colab": {}
      },
      "source": [
        ""
      ],
      "execution_count": 0,
      "outputs": []
    }
  ]
}